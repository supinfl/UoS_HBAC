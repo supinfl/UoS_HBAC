{
 "cells": [
  {
   "cell_type": "markdown",
   "id": "858ed56b",
   "metadata": {},
   "source": [
    "# Running result on differrent parameters\n",
    "epoch = 3, fold = 3"
   ]
  },
  {
   "cell_type": "markdown",
   "id": "0ff5f7d8",
   "metadata": {},
   "source": [
    "| Model             | Use Kaggle Spectrograms | Use EEG Spectrograms | Use Wavelet Spectrograms | CV Result   |\n",
    "|-------------------|-------------------------|----------------------|--------------------------|-------------|\n",
    "| **tf_efficientnet_b0** | **True**                    | **False**                | **False**                    | **1.2792**      |\n",
    "| tf_efficientnet_b0 | True                    | True                 | True                     | 1.2816      |\n",
    "| tf_efficientnet_b0 | True                    | True                 | False                    | 1.2915      |\n",
    "| tf_efficientnet_b0 | True                    | False                | True                     | 1.2948      |\n",
    "| tf_efficientnet_b0 | False                   | True                 | True                     | 1.3456      |\n",
    "| tf_efficientnet_b0 | False                   | False                | True                     | 1.3557      |\n",
    "| tf_efficientnet_b0 | False                   | True                 | False                    | 1.3655      |\n",
    "| **efficientnet_b4**    | **True**                    | **False**                | **False**                    | **1.3070**      |\n",
    "| efficientnet_b4    | True                    | False                | True                     | 1.3266      |\n",
    "| efficientnet_b4    | True                    | True                 | True                     | 1.3388      |\n",
    "| efficientnet_b4    | True                    | True                 | False                    | 1.3415      |\n",
    "| efficientnet_b4    | False                   | True                 | True                     | 1.3431      |\n",
    "| efficientnet_b4    | False                   | True                 | False                    | 1.3676      |\n",
    "| efficientnet_b4    | False                   | False                | True                     | 1.3566      |\n"
   ]
  },
  {
   "cell_type": "markdown",
   "id": "dce19433",
   "metadata": {},
   "source": []
  }
 ],
 "metadata": {
  "kaggle": {
   "accelerator": "none",
   "dataSources": [
    {
     "databundleVersionId": 7469972,
     "sourceId": 59093,
     "sourceType": "competition"
    },
    {
     "datasetId": 4759669,
     "sourceId": 8067308,
     "sourceType": "datasetVersion"
    }
   ],
   "dockerImageVersionId": 30673,
   "isGpuEnabled": false,
   "isInternetEnabled": false,
   "language": "python",
   "sourceType": "notebook"
  },
  "kernelspec": {
   "display_name": "Python 3",
   "language": "python",
   "name": "python3"
  },
  "language_info": {
   "codemirror_mode": {
    "name": "ipython",
    "version": 3
   },
   "file_extension": ".py",
   "mimetype": "text/x-python",
   "name": "python",
   "nbconvert_exporter": "python",
   "pygments_lexer": "ipython3",
   "version": "3.10.13"
  },
  "papermill": {
   "default_parameters": {},
   "duration": 24.164645,
   "end_time": "2024-04-08T21:00:31.669933",
   "environment_variables": {},
   "exception": null,
   "input_path": "__notebook__.ipynb",
   "output_path": "__notebook__.ipynb",
   "parameters": {},
   "start_time": "2024-04-08T21:00:07.505288",
   "version": "2.5.0"
  }
 },
 "nbformat": 4,
 "nbformat_minor": 5
}
